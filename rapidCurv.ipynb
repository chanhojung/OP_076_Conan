{
  "nbformat": 4,
  "nbformat_minor": 0,
  "metadata": {
    "colab": {
      "name": "Untitled2.ipynb",
      "provenance": [],
      "authorship_tag": "ABX9TyONksXN1qm18pmnIRC7EI4A",
      "include_colab_link": true
    },
    "kernelspec": {
      "name": "python3",
      "display_name": "Python 3"
    }
  },
  "cells": [
    {
      "cell_type": "markdown",
      "metadata": {
        "id": "view-in-github",
        "colab_type": "text"
      },
      "source": [
        "<a href=\"https://colab.research.google.com/github/chanhojung/OP_076_Conan/blob/master7/rapidCurv.ipynb\" target=\"_parent\"><img src=\"https://colab.research.google.com/assets/colab-badge.svg\" alt=\"Open In Colab\"/></a>"
      ]
    },
    {
      "cell_type": "code",
      "metadata": {
        "id": "_--4XzLOj4JX",
        "colab_type": "code",
        "colab": {
          "base_uri": "https://localhost:8080/",
          "height": 34
        },
        "outputId": "9ca21a48-bbc9-48c6-840b-e9b7986f4bb6"
      },
      "source": [
        "import numpy as np\n",
        "\n",
        "def limit_ctrl1(value, limit1, limit2, offset ):\n",
        "   p_limit = offset + limit1\n",
        "   m_limit = offset - limit2\n",
        "   if value > p_limit:\n",
        "     value = p_limit\n",
        "   elif  value < m_limit:\n",
        "     value = m_limit\n",
        "   return value \n",
        "  \n",
        "org_angle_steers_des = 60\n",
        "angle_steers = 30\n",
        "model_sum = 15\n",
        "\n",
        "xp = [-30,-20,-10,-5,0,5,10,20,30]    # 5 조향각 약12도, 10=>28 15=>35, 30=>52\n",
        "fp1 = [3,8,10,15,20,25,20,15,10]    # +\n",
        "fp2 = [10,15,20,25,20,15,10,8,3]    # -\n",
        "limit_steers1 = np.interp( model_sum, xp, fp1 )  # +\n",
        "limit_steers2 = np.interp( model_sum, xp, fp2 )  # -\n",
        "angle_steers_des_mpc = limit_ctrl1( org_angle_steers_des, limit_steers1, limit_steers2, angle_steers )\n",
        "\n",
        "print(\"model_sum =\",model_sum,\"/ limit_S1 =\",limit_steers1,\"/ limit_S2 =\",limit_steers2,\"/ preAng = \",org_angle_steers_des,\"/ NowAng = \",angle_steers, \"/ TobeAng =\",angle_steers_des_mpc)"
      ],
      "execution_count": 45,
      "outputs": [
        {
          "output_type": "stream",
          "text": [
            "model_sum = 15 / limit_S1 = 17.5 / limit_S2 = 9.0 / preAng =  60 / NowAng =  30 / TobeAng = 47.5\n"
          ],
          "name": "stdout"
        }
      ]
    },
    {
      "cell_type": "code",
      "metadata": {
        "id": "da6Z2BiqqyaC",
        "colab_type": "code",
        "colab": {}
      },
      "source": [
        "# 2.방법에 대한 질문...\n",
        "xp = [-10,-5,0,5,10]    # 5 조향각 약12도, 10=>28 15=>35, 30=>52\n",
        "fp1 = [3,8,10,20,10]    # +\n",
        "fp2 = [10,20,10,8,3]    # -\n",
        "limit_steers1 = interp( model_sum, xp, fp1 )  # +\n",
        "limit_steers2 = interp( model_sum, xp, fp2 )  # -\n",
        "self.angle_steers_des_mpc = self.limit_ctrl1( org_angle_steers_des, limit_steers1, limit_steers2, angle_steers )\n",
        "\n",
        "이 부분은 제 머리가 나쁜지 도통 이해가 안되네요 TT\n",
        "일단 interp 보간 함수는 대충 이해가 가는데요\n",
        "xp = [-10,-5,0,5,10] 는 좌우 방향을 가지는 각도(곡률?)값이므로\n",
        "계산하고자 하는 model_sum값을 받으면 해당 구간에 맞는 fp1, fp2 값을 계산해야하는데\n",
        "fp1의 경우 3,8,10,20 까지 증가하다가 마지막 xp 10구간에 매칭되는 값은\n",
        "오히려 10으로 줄어든다는게 이해가 안가네요\n",
        "fp2도 10에서 출발하여 xp -5구간에 해당하는 20까지 늘다가 0부터 다시 점점 내려가는데\n",
        "이후 self.angle_steers_des_mpc 값을 계산하는데 들어간다고 하여 상상을 해보면\n",
        "머리만 복잡해지고 더 이해가 안가네요 ^^\n",
        "\n",
        "==> 코난님 답변\n",
        "Model_sum이 + 방향 5일경우  fp1 20, fp2 8 입니다.\n",
        "따라소 감는 허용치는 20, 푸는 허용치는 8입니다. \n",
        "곡률이 심한 커브길이기 때문에 감는 방향으로 20을 주어 핸들이 힘을 받을수 있도록 유도한것입니다. \n",
        "반대로 푸는 방향우로 8울 주어 푸는 방향은 힘을 덜 받을수 있도록 유도한것입니다. \n",
        "그래서 자꾸 푸는 방행에 힘이 부족하여 자꾸 인코너로 주행을 하는듯한 느낌도 받아요.\n",
        "\n",
        "# 2.방법에 대한 질문...\n",
        "xp = [-5,0,5,10]    # 5 조향각 약\n",
        "fp1 = [8,10,20,10]    #\n",
        "fp2 = [20,10,8,3]    # -\n",
        "이러한 방법으로 만들면 되요\n",
        "\n",
        "곡률이 심할경우 감는 방향에 힘이 많이 필요하다고 생각을 했어요.\n",
        "핸들의 특성상 감길때는 힘이 많이 필요하고 플때는 힘이 덜들어 가잖아요.\n"
      ],
      "execution_count": null,
      "outputs": []
    },
    {
      "cell_type": "code",
      "metadata": {
        "id": "2qlrX7wiB4ap",
        "colab_type": "code",
        "colab": {}
      },
      "source": [
        "{\"calib_radians\": [0, 0.003663617787158593, -0.01814416281063], \"valid_blocks\": 5}\n",
        "{\"calib_radians\": [0, 0.0035496779923961702, -0.029299671221259954], \"valid_blocks\": 5}\n",
        "{\"calib_radians\": [0, 0.0035496779923961702, -0.029299671221259954], \"valid_blocks\": 5}\n",
        "{\"calib_radians\": [0, 0.004028662455637516, -0.0236208311783741], \"valid_blocks\": 50}\n"
      ],
      "execution_count": null,
      "outputs": []
    }
  ]
}